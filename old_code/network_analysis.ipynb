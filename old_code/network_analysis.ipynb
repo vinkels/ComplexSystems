{
 "cells": [
  {
   "cell_type": "code",
   "execution_count": 57,
   "metadata": {
    "ExecuteTime": {
     "end_time": "2019-06-27T23:18:20.238840Z",
     "start_time": "2019-06-27T23:18:20.227730Z"
    }
   },
   "outputs": [],
   "source": [
    "# %matplotlib inline\n",
    "\n",
    "import numpy as np\n",
    "import matplotlib.pyplot as plt\n",
    "import pickle as pkl\n",
    "import networkx as nx\n",
    "import heapq\n",
    "from collections import OrderedDict"
   ]
  },
  {
   "cell_type": "code",
   "execution_count": 2,
   "metadata": {
    "ExecuteTime": {
     "end_time": "2019-06-27T22:27:57.528064Z",
     "start_time": "2019-06-27T22:27:57.504548Z"
    }
   },
   "outputs": [],
   "source": [
    "data_split = pkl.load(open('splits_slope_0.0001_version_1.p', 'rb'))\n",
    "\n",
    "data_segment = pkl.load(open('segments_slope_0.0001_version_1.p', 'rb'))\n",
    "\n",
    "for k, v in data_segment.items():\n",
    "    data_segment[k] = len(v)\n",
    "split_dict = {}\n",
    "for k, v in data_split.items():\n",
    "    split_dict[int(k)] = (int(v[0]), int(v[1]))"
   ]
  },
  {
   "cell_type": "code",
   "execution_count": 4,
   "metadata": {
    "ExecuteTime": {
     "end_time": "2019-06-27T22:27:58.632386Z",
     "start_time": "2019-06-27T22:27:58.615479Z"
    }
   },
   "outputs": [],
   "source": [
    "labels = OrderedDict()\n",
    "values = range(len(data_segment))\n",
    "for e, i in enumerate(values):\n",
    "    labels[str(e)] = i"
   ]
  },
  {
   "cell_type": "code",
   "execution_count": 54,
   "metadata": {
    "ExecuteTime": {
     "end_time": "2019-06-27T23:17:25.508042Z",
     "start_time": "2019-06-27T23:17:25.501434Z"
    }
   },
   "outputs": [],
   "source": [
    "g= nx.DiGraph(split_dict)\n",
    "edgie = g.edges()\n",
    "for k, v in split_dict.items():\n",
    "    for ed in edgie:\n",
    "        if k == ed[0]:\n",
    "            g[k][ed[1]]['weights'] = data_segment[k] * 1/len(data_segment)"
   ]
  },
  {
   "cell_type": "code",
   "execution_count": 65,
   "metadata": {
    "ExecuteTime": {
     "end_time": "2019-06-27T23:28:33.375982Z",
     "start_time": "2019-06-27T23:28:32.523579Z"
    }
   },
   "outputs": [
    {
     "data": {
      "image/png": "[encoded data removed]",
      "text/plain": [
       "<Figure size 432x288 with 1 Axes>"
      ]
     },
     "metadata": {},
     "output_type": "display_data"
    }
   ],
   "source": [
    "plt.figure()\n",
    "nx.draw(g, with_labels=labels)\n",
    "plt.savefig('test.png', dpi=300)\n",
    "plt.show()"
   ]
  },
  {
   "cell_type": "code",
   "execution_count": 6,
   "metadata": {
    "ExecuteTime": {
     "end_time": "2019-06-27T22:27:59.609858Z",
     "start_time": "2019-06-27T22:27:59.541035Z"
    }
   },
   "outputs": [],
   "source": [
    "def calc_order_array(D):\n",
    "    \n",
    "    if nx.is_directed_acyclic_graph(D) == False:\n",
    "        raise('Input should be a directed acyclic graph sukkel')\n",
    "\n",
    "    order_array = np.zeros(nx.number_of_nodes(D))\n",
    "\n",
    "    for i in range(nx.number_of_nodes(D)-1,-1,-1):\n",
    "        if len(nx.descendants(D,i)) == 0 or len(nx.descendants(D,i)) == 1:\n",
    "            order_array[i] = 1\n",
    "        else:\n",
    "            des_list = list(D.successors(i))\n",
    "            des_list = [int(h) for h in des_list]\n",
    "            max_orders = heapq.nlargest(2, order_array[des_list])            \n",
    "         \n",
    "            if len(max_orders) == 1:\n",
    "                order_array[i] = max_orders[0]\n",
    "                  \n",
    "            else:\n",
    "\n",
    "                if max_orders[0] == max_orders[1]:\n",
    "                    order_array[i] = max_orders[0] + 1\n",
    "                else:\n",
    "                    order_array[i] = max_orders[0]\n",
    "    return order_array"
   ]
  },
  {
   "cell_type": "code",
   "execution_count": 7,
   "metadata": {
    "ExecuteTime": {
     "end_time": "2019-06-27T22:28:00.138178Z",
     "start_time": "2019-06-27T22:28:00.125947Z"
    }
   },
   "outputs": [],
   "source": [
    "def calc_bifcation_ratio(order_arr):\n",
    "    \n",
    "    if len(order_arr) < 1.0:\n",
    "        R_b = 0\n",
    "    else:\n",
    "        R_i = int(max(order_arr) - 1)\n",
    "        R_b = np.zeros(R_i)\n",
    "        \n",
    "        for i in range(R_i):\n",
    "#             print(\"Test \",i , \" \", order_arr == i + 1)\n",
    "            R_b[i] = sum(order_arr == i + 1)/sum(order_arr == i + 2)\n",
    "    return R_b"
   ]
  },
  {
   "cell_type": "code",
   "execution_count": 8,
   "metadata": {
    "ExecuteTime": {
     "end_time": "2019-06-27T22:28:00.603525Z",
     "start_time": "2019-06-27T22:28:00.591818Z"
    }
   },
   "outputs": [],
   "source": [
    "o_array = calc_order_array(g)"
   ]
  },
  {
   "cell_type": "code",
   "execution_count": 27,
   "metadata": {
    "ExecuteTime": {
     "end_time": "2019-06-27T22:36:41.686639Z",
     "start_time": "2019-06-27T22:36:41.671513Z"
    }
   },
   "outputs": [],
   "source": [
    "r_b = calc_bifcation_ratio(o_array)"
   ]
  },
  {
   "cell_type": "code",
   "execution_count": 44,
   "metadata": {
    "ExecuteTime": {
     "end_time": "2019-06-27T22:57:18.024026Z",
     "start_time": "2019-06-27T22:57:17.998514Z"
    }
   },
   "outputs": [],
   "source": [
    "def calc_len_ratio(order_arr, segm_dict):\n",
    "    \n",
    "    length_node_list = segm_dict.values()\n",
    "    length_order_set_list = list(zip(order_arr, length_node_list))\n",
    "\n",
    "    R_l = []\n",
    "    avg_len_path_dict = {}\n",
    "    \n",
    "    for order, length in length_order_set_list:\n",
    "        if order not in avg_len_path_dict:\n",
    "            avg_len_path_dict[order] = [length]\n",
    "        else:\n",
    "            avg_len_path_dict[order].append(length)\n",
    "    \n",
    "    for key, value in avg_len_path_dict.items():\n",
    "        avg_len_path_dict[key] = sum(value)/len(value)\n",
    "        \n",
    "    for i in range(1, len(avg_len_path_dict)):\n",
    "        R_l.append(avg_len_path_dict[i + 1]/avg_len_path_dict[i])\n",
    "    return R_l"
   ]
  },
  {
   "cell_type": "code",
   "execution_count": 45,
   "metadata": {
    "ExecuteTime": {
     "end_time": "2019-06-27T22:57:18.473904Z",
     "start_time": "2019-06-27T22:57:18.465848Z"
    }
   },
   "outputs": [],
   "source": [
    "r_l = calc_len_ratio(o_array, data_segment)"
   ]
  },
  {
   "cell_type": "code",
   "execution_count": 50,
   "metadata": {
    "ExecuteTime": {
     "end_time": "2019-06-27T23:00:06.865204Z",
     "start_time": "2019-06-27T23:00:06.857174Z"
    }
   },
   "outputs": [],
   "source": [
    "def calc_fractal_dim(ratio_bifcation, ratio_length):\n",
    "    return sum(np.log(ratio_bifcation)/np.log(ratio_length))"
   ]
  },
  {
   "cell_type": "markdown",
   "metadata": {},
   "source": [
    "slopes = [0.0001,0.0002,0.0004,0.0006,0.0008,0.001]\n",
    "rb=np.zeros(30,3)\n",
    "for i in range(1,31):\n",
    "    count = 0\n",
    "    for s in slopes:\n",
    "        count += 1\n",
    "        name = ('splits_slope_' + str(s) +'version' + str(i) +'.p')\n",
    "        data_split = pkl.load(open(name, 'rb'))\n",
    "        Graph = nx.DiGraph(data_split) \n",
    "        ##rb[count] = calc_Rb(Graph)[0]"
   ]
  },
  {
   "cell_type": "code",
   "execution_count": null,
   "metadata": {},
   "outputs": [],
   "source": [
    "def stats_bif():\n",
    "    pass\n",
    "def stats_path():\n",
    "    pass\n",
    "def stats_frac_dim():\n",
    "    pass"
   ]
  }
 ],
 "metadata": {
  "kernelspec": {
   "display_name": "Python 3",
   "language": "python",
   "name": "python3"
  },
  "language_info": {
   "codemirror_mode": {
    "name": "ipython",
    "version": 3
   },
   "file_extension": ".py",
   "mimetype": "text/x-python",
   "name": "python",
   "nbconvert_exporter": "python",
   "pygments_lexer": "ipython3",
   "version": "3.6.8"
  },
  "toc": {
   "base_numbering": 1,
   "nav_menu": {},
   "number_sections": true,
   "sideBar": true,
   "skip_h1_title": true,
   "title_cell": "Table of Contents",
   "title_sidebar": "Contents",
   "toc_cell": false,
   "toc_position": {},
   "toc_section_display": true,
   "toc_window_display": false
  },
  "varInspector": {
   "cols": {
    "lenName": 16,
    "lenType": 16,
    "lenVar": 40
   },
   "kernels_config": {
    "python": {
     "delete_cmd_postfix": "",
     "delete_cmd_prefix": "del ",
     "library": "var_list.py",
     "varRefreshCmd": "print(var_dic_list())"
    },
    "r": {
     "delete_cmd_postfix": ") ",
     "delete_cmd_prefix": "rm(",
     "library": "var_list.r",
     "varRefreshCmd": "cat(var_dic_list()) "
    }
   },
   "types_to_exclude": [
    "module",
    "function",
    "builtin_function_or_method",
    "instance",
    "_Feature"
   ],
   "window_display": false
  }
 },
 "nbformat": 4,
 "nbformat_minor": 2
}
